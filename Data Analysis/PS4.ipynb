{
 "cells": [
  {
   "cell_type": "markdown",
   "id": "406a19c1-3b53-4284-9007-7bce8459594c",
   "metadata": {},
   "source": [
    "## INFO370 Problem Set: Categorical variables and logistic regression"
   ]
  },
  {
   "cell_type": "markdown",
   "id": "07d5c9a9-e9c9-4a1b-9114-250a4c1285db",
   "metadata": {},
   "source": [
    "#### 1 Titanic: What Happened During Her Last Hours? (40pct)"
   ]
  },
  {
   "cell_type": "markdown",
   "id": "88d451df-5f43-4e69-a8c8-dc2679b0c317",
   "metadata": {},
   "source": [
    "##### 1.1 Titanic Data (8 pct)"
   ]
  },
  {
   "cell_type": "code",
   "execution_count": 1,
   "id": "f4992bee-5c45-47d4-ab1b-0a940da4ac56",
   "metadata": {},
   "outputs": [],
   "source": [
    "import numpy as np\n",
    "import pandas as pd\n",
    "import matplotlib.pyplot as plt\n",
    "import statsmodels.formula.api as smf\n",
    "from sklearn.linear_model import LogisticRegression\n",
    "from sklearn.metrics import precision_score\n",
    "from sklearn.metrics import confusion_matrix"
   ]
  },
  {
   "cell_type": "markdown",
   "id": "4831bcb8-4efc-4ab3-a006-1c17ce227ef3",
   "metadata": {},
   "source": [
    "1. load file titanic.csv, and checks that the data looks good."
   ]
  },
  {
   "cell_type": "code",
   "execution_count": 2,
   "id": "f451a730-e01a-420b-affb-e6a82c4f9bd5",
   "metadata": {},
   "outputs": [
    {
     "data": {
      "text/html": [
       "<div>\n",
       "<style scoped>\n",
       "    .dataframe tbody tr th:only-of-type {\n",
       "        vertical-align: middle;\n",
       "    }\n",
       "\n",
       "    .dataframe tbody tr th {\n",
       "        vertical-align: top;\n",
       "    }\n",
       "\n",
       "    .dataframe thead th {\n",
       "        text-align: right;\n",
       "    }\n",
       "</style>\n",
       "<table border=\"1\" class=\"dataframe\">\n",
       "  <thead>\n",
       "    <tr style=\"text-align: right;\">\n",
       "      <th></th>\n",
       "      <th>pclass</th>\n",
       "      <th>survived</th>\n",
       "      <th>name</th>\n",
       "      <th>sex</th>\n",
       "      <th>age</th>\n",
       "      <th>sibsp</th>\n",
       "      <th>parch</th>\n",
       "      <th>ticket</th>\n",
       "      <th>fare</th>\n",
       "      <th>cabin</th>\n",
       "      <th>embarked</th>\n",
       "      <th>boat</th>\n",
       "      <th>body</th>\n",
       "      <th>home.dest</th>\n",
       "    </tr>\n",
       "  </thead>\n",
       "  <tbody>\n",
       "    <tr>\n",
       "      <th>0</th>\n",
       "      <td>1</td>\n",
       "      <td>1</td>\n",
       "      <td>Allen, Miss. Elisabeth Walton</td>\n",
       "      <td>female</td>\n",
       "      <td>29.0000</td>\n",
       "      <td>0</td>\n",
       "      <td>0</td>\n",
       "      <td>24160</td>\n",
       "      <td>211.3375</td>\n",
       "      <td>B5</td>\n",
       "      <td>S</td>\n",
       "      <td>2</td>\n",
       "      <td>NaN</td>\n",
       "      <td>St Louis, MO</td>\n",
       "    </tr>\n",
       "    <tr>\n",
       "      <th>1</th>\n",
       "      <td>1</td>\n",
       "      <td>1</td>\n",
       "      <td>Allison, Master. Hudson Trevor</td>\n",
       "      <td>male</td>\n",
       "      <td>0.9167</td>\n",
       "      <td>1</td>\n",
       "      <td>2</td>\n",
       "      <td>113781</td>\n",
       "      <td>151.5500</td>\n",
       "      <td>C22 C26</td>\n",
       "      <td>S</td>\n",
       "      <td>11</td>\n",
       "      <td>NaN</td>\n",
       "      <td>Montreal, PQ / Chesterville, ON</td>\n",
       "    </tr>\n",
       "    <tr>\n",
       "      <th>2</th>\n",
       "      <td>1</td>\n",
       "      <td>0</td>\n",
       "      <td>Allison, Miss. Helen Loraine</td>\n",
       "      <td>female</td>\n",
       "      <td>2.0000</td>\n",
       "      <td>1</td>\n",
       "      <td>2</td>\n",
       "      <td>113781</td>\n",
       "      <td>151.5500</td>\n",
       "      <td>C22 C26</td>\n",
       "      <td>S</td>\n",
       "      <td>NaN</td>\n",
       "      <td>NaN</td>\n",
       "      <td>Montreal, PQ / Chesterville, ON</td>\n",
       "    </tr>\n",
       "    <tr>\n",
       "      <th>3</th>\n",
       "      <td>1</td>\n",
       "      <td>0</td>\n",
       "      <td>Allison, Mr. Hudson Joshua Creighton</td>\n",
       "      <td>male</td>\n",
       "      <td>30.0000</td>\n",
       "      <td>1</td>\n",
       "      <td>2</td>\n",
       "      <td>113781</td>\n",
       "      <td>151.5500</td>\n",
       "      <td>C22 C26</td>\n",
       "      <td>S</td>\n",
       "      <td>NaN</td>\n",
       "      <td>135.0</td>\n",
       "      <td>Montreal, PQ / Chesterville, ON</td>\n",
       "    </tr>\n",
       "    <tr>\n",
       "      <th>4</th>\n",
       "      <td>1</td>\n",
       "      <td>0</td>\n",
       "      <td>Allison, Mrs. Hudson J C (Bessie Waldo Daniels)</td>\n",
       "      <td>female</td>\n",
       "      <td>25.0000</td>\n",
       "      <td>1</td>\n",
       "      <td>2</td>\n",
       "      <td>113781</td>\n",
       "      <td>151.5500</td>\n",
       "      <td>C22 C26</td>\n",
       "      <td>S</td>\n",
       "      <td>NaN</td>\n",
       "      <td>NaN</td>\n",
       "      <td>Montreal, PQ / Chesterville, ON</td>\n",
       "    </tr>\n",
       "  </tbody>\n",
       "</table>\n",
       "</div>"
      ],
      "text/plain": [
       "   pclass  survived                                             name     sex  \\\n",
       "0       1         1                    Allen, Miss. Elisabeth Walton  female   \n",
       "1       1         1                   Allison, Master. Hudson Trevor    male   \n",
       "2       1         0                     Allison, Miss. Helen Loraine  female   \n",
       "3       1         0             Allison, Mr. Hudson Joshua Creighton    male   \n",
       "4       1         0  Allison, Mrs. Hudson J C (Bessie Waldo Daniels)  female   \n",
       "\n",
       "       age  sibsp  parch  ticket      fare    cabin embarked boat   body  \\\n",
       "0  29.0000      0      0   24160  211.3375       B5        S    2    NaN   \n",
       "1   0.9167      1      2  113781  151.5500  C22 C26        S   11    NaN   \n",
       "2   2.0000      1      2  113781  151.5500  C22 C26        S  NaN    NaN   \n",
       "3  30.0000      1      2  113781  151.5500  C22 C26        S  NaN  135.0   \n",
       "4  25.0000      1      2  113781  151.5500  C22 C26        S  NaN    NaN   \n",
       "\n",
       "                         home.dest  \n",
       "0                     St Louis, MO  \n",
       "1  Montreal, PQ / Chesterville, ON  \n",
       "2  Montreal, PQ / Chesterville, ON  \n",
       "3  Montreal, PQ / Chesterville, ON  \n",
       "4  Montreal, PQ / Chesterville, ON  "
      ]
     },
     "execution_count": 2,
     "metadata": {},
     "output_type": "execute_result"
    }
   ],
   "source": [
    "titanic = pd.read_csv(\"data/titanic.csv.bz2\", sep=\",\")\n",
    "titanic.head()"
   ]
  },
  {
   "cell_type": "code",
   "execution_count": 3,
   "id": "9cc46224-74c3-44d3-961b-5dacbb2308d4",
   "metadata": {},
   "outputs": [
    {
     "data": {
      "text/plain": [
       "pclass         int64\n",
       "survived       int64\n",
       "name          object\n",
       "sex           object\n",
       "age          float64\n",
       "sibsp          int64\n",
       "parch          int64\n",
       "ticket        object\n",
       "fare         float64\n",
       "cabin         object\n",
       "embarked      object\n",
       "boat          object\n",
       "body         float64\n",
       "home.dest     object\n",
       "dtype: object"
      ]
     },
     "execution_count": 3,
     "metadata": {},
     "output_type": "execute_result"
    }
   ],
   "source": [
    "titanic.dtypes"
   ]
  },
  {
   "cell_type": "code",
   "execution_count": 4,
   "id": "fab47f2f-6f1a-4881-9062-d0e83704298e",
   "metadata": {},
   "outputs": [
    {
     "data": {
      "text/plain": [
       "pclass          0\n",
       "survived        0\n",
       "name            0\n",
       "sex             0\n",
       "age           263\n",
       "sibsp           0\n",
       "parch           0\n",
       "ticket          0\n",
       "fare            1\n",
       "cabin        1014\n",
       "embarked        2\n",
       "boat          823\n",
       "body         1188\n",
       "home.dest     564\n",
       "dtype: int64"
      ]
     },
     "execution_count": 4,
     "metadata": {},
     "output_type": "execute_result"
    }
   ],
   "source": [
    "titanic.isna().sum()"
   ]
  },
  {
   "cell_type": "markdown",
   "id": "3579090a-e158-41da-98b8-f0e1fd65e82a",
   "metadata": {},
   "source": [
    "From the first few lines and data types the data look good. But there are few columns missing lots of value but it is reasonalbe since it is a accident."
   ]
  },
  {
   "cell_type": "markdown",
   "id": "c5bee9d5-2e18-400a-8cd8-a245e5f5d8da",
   "metadata": {},
   "source": [
    "2. find the number of missings in the important variables. You are definitely going to use variables\n",
    "survived, pclass, sex, age, and you may use more (see below)."
   ]
  },
  {
   "cell_type": "code",
   "execution_count": 5,
   "id": "8c6121c0-d57d-4b7e-89ec-866b317751fb",
   "metadata": {},
   "outputs": [
    {
     "data": {
      "text/plain": [
       "pclass          0\n",
       "survived        0\n",
       "name            0\n",
       "sex             0\n",
       "age           263\n",
       "sibsp           0\n",
       "parch           0\n",
       "ticket          0\n",
       "fare            1\n",
       "cabin        1014\n",
       "embarked        2\n",
       "boat          823\n",
       "body         1188\n",
       "home.dest     564\n",
       "dtype: int64"
      ]
     },
     "execution_count": 5,
     "metadata": {},
     "output_type": "execute_result"
    }
   ],
   "source": [
    "titanic.isna().sum()"
   ]
  },
  {
   "cell_type": "markdown",
   "id": "c2fdd679-4160-446f-b7e8-d645dfabfeda",
   "metadata": {},
   "source": [
    "3. Are there values that are technically not missing but still implausible?"
   ]
  },
  {
   "cell_type": "markdown",
   "id": "96691228-adcf-494a-90ac-7f57a0986a75",
   "metadata": {},
   "source": [
    "The body and cabin missing to me is reasonable since this accident really destory everying in the middle of ocean. However, the missings of home.dest, age is implausible to me. I thought we have a really good ticket tracking sytem at that time."
   ]
  },
  {
   "cell_type": "markdown",
   "id": "0a34b4a3-c229-4de1-b4fe-9708e7464d11",
   "metadata": {},
   "source": [
    "##### 1.2 Logistic Regression (32pct)"
   ]
  },
  {
   "cell_type": "markdown",
   "id": "8774e81e-3ef7-4962-b557-544e518c60cb",
   "metadata": {},
   "source": [
    "1. Based on the survivors accounts, which variables do you think are the most important ones\n",
    "to describe survival? How should those be related to the survival? (should they increase or\n",
    "decrease chances of survival?)"
   ]
  },
  {
   "cell_type": "markdown",
   "id": "6e15d196-30b0-4e93-8239-065216cb51d7",
   "metadata": {},
   "source": [
    "I think the survived definately are the most important one to desribe survival. Other varibles could be sex, age and pcalss.Female, children and olds have higher chances to be survival. Also, people who live in higher class also have proity to survive. Young man or people in lower class have less survival possiblity."
   ]
  },
  {
   "cell_type": "markdown",
   "id": "337292ac-80a0-478a-b3ce-ae427b3d685a",
   "metadata": {},
   "source": [
    "2. Create a new variable child, that is 1 if the passenger was youger than 14 years old."
   ]
  },
  {
   "cell_type": "code",
   "execution_count": 6,
   "id": "2b798ea3-39c7-4243-8f2b-10bbd717ef4e",
   "metadata": {},
   "outputs": [
    {
     "data": {
      "text/html": [
       "<div>\n",
       "<style scoped>\n",
       "    .dataframe tbody tr th:only-of-type {\n",
       "        vertical-align: middle;\n",
       "    }\n",
       "\n",
       "    .dataframe tbody tr th {\n",
       "        vertical-align: top;\n",
       "    }\n",
       "\n",
       "    .dataframe thead th {\n",
       "        text-align: right;\n",
       "    }\n",
       "</style>\n",
       "<table border=\"1\" class=\"dataframe\">\n",
       "  <thead>\n",
       "    <tr style=\"text-align: right;\">\n",
       "      <th></th>\n",
       "      <th>pclass</th>\n",
       "      <th>survived</th>\n",
       "      <th>name</th>\n",
       "      <th>sex</th>\n",
       "      <th>age</th>\n",
       "      <th>sibsp</th>\n",
       "      <th>parch</th>\n",
       "      <th>ticket</th>\n",
       "      <th>fare</th>\n",
       "      <th>cabin</th>\n",
       "      <th>embarked</th>\n",
       "      <th>boat</th>\n",
       "      <th>body</th>\n",
       "      <th>home.dest</th>\n",
       "      <th>child</th>\n",
       "    </tr>\n",
       "  </thead>\n",
       "  <tbody>\n",
       "    <tr>\n",
       "      <th>0</th>\n",
       "      <td>1</td>\n",
       "      <td>1</td>\n",
       "      <td>Allen, Miss. Elisabeth Walton</td>\n",
       "      <td>female</td>\n",
       "      <td>29.0000</td>\n",
       "      <td>0</td>\n",
       "      <td>0</td>\n",
       "      <td>24160</td>\n",
       "      <td>211.3375</td>\n",
       "      <td>B5</td>\n",
       "      <td>S</td>\n",
       "      <td>2</td>\n",
       "      <td>NaN</td>\n",
       "      <td>St Louis, MO</td>\n",
       "      <td>0</td>\n",
       "    </tr>\n",
       "    <tr>\n",
       "      <th>1</th>\n",
       "      <td>1</td>\n",
       "      <td>1</td>\n",
       "      <td>Allison, Master. Hudson Trevor</td>\n",
       "      <td>male</td>\n",
       "      <td>0.9167</td>\n",
       "      <td>1</td>\n",
       "      <td>2</td>\n",
       "      <td>113781</td>\n",
       "      <td>151.5500</td>\n",
       "      <td>C22 C26</td>\n",
       "      <td>S</td>\n",
       "      <td>11</td>\n",
       "      <td>NaN</td>\n",
       "      <td>Montreal, PQ / Chesterville, ON</td>\n",
       "      <td>1</td>\n",
       "    </tr>\n",
       "    <tr>\n",
       "      <th>2</th>\n",
       "      <td>1</td>\n",
       "      <td>0</td>\n",
       "      <td>Allison, Miss. Helen Loraine</td>\n",
       "      <td>female</td>\n",
       "      <td>2.0000</td>\n",
       "      <td>1</td>\n",
       "      <td>2</td>\n",
       "      <td>113781</td>\n",
       "      <td>151.5500</td>\n",
       "      <td>C22 C26</td>\n",
       "      <td>S</td>\n",
       "      <td>NaN</td>\n",
       "      <td>NaN</td>\n",
       "      <td>Montreal, PQ / Chesterville, ON</td>\n",
       "      <td>1</td>\n",
       "    </tr>\n",
       "    <tr>\n",
       "      <th>3</th>\n",
       "      <td>1</td>\n",
       "      <td>0</td>\n",
       "      <td>Allison, Mr. Hudson Joshua Creighton</td>\n",
       "      <td>male</td>\n",
       "      <td>30.0000</td>\n",
       "      <td>1</td>\n",
       "      <td>2</td>\n",
       "      <td>113781</td>\n",
       "      <td>151.5500</td>\n",
       "      <td>C22 C26</td>\n",
       "      <td>S</td>\n",
       "      <td>NaN</td>\n",
       "      <td>135.0</td>\n",
       "      <td>Montreal, PQ / Chesterville, ON</td>\n",
       "      <td>0</td>\n",
       "    </tr>\n",
       "    <tr>\n",
       "      <th>4</th>\n",
       "      <td>1</td>\n",
       "      <td>0</td>\n",
       "      <td>Allison, Mrs. Hudson J C (Bessie Waldo Daniels)</td>\n",
       "      <td>female</td>\n",
       "      <td>25.0000</td>\n",
       "      <td>1</td>\n",
       "      <td>2</td>\n",
       "      <td>113781</td>\n",
       "      <td>151.5500</td>\n",
       "      <td>C22 C26</td>\n",
       "      <td>S</td>\n",
       "      <td>NaN</td>\n",
       "      <td>NaN</td>\n",
       "      <td>Montreal, PQ / Chesterville, ON</td>\n",
       "      <td>0</td>\n",
       "    </tr>\n",
       "  </tbody>\n",
       "</table>\n",
       "</div>"
      ],
      "text/plain": [
       "   pclass  survived                                             name     sex  \\\n",
       "0       1         1                    Allen, Miss. Elisabeth Walton  female   \n",
       "1       1         1                   Allison, Master. Hudson Trevor    male   \n",
       "2       1         0                     Allison, Miss. Helen Loraine  female   \n",
       "3       1         0             Allison, Mr. Hudson Joshua Creighton    male   \n",
       "4       1         0  Allison, Mrs. Hudson J C (Bessie Waldo Daniels)  female   \n",
       "\n",
       "       age  sibsp  parch  ticket      fare    cabin embarked boat   body  \\\n",
       "0  29.0000      0      0   24160  211.3375       B5        S    2    NaN   \n",
       "1   0.9167      1      2  113781  151.5500  C22 C26        S   11    NaN   \n",
       "2   2.0000      1      2  113781  151.5500  C22 C26        S  NaN    NaN   \n",
       "3  30.0000      1      2  113781  151.5500  C22 C26        S  NaN  135.0   \n",
       "4  25.0000      1      2  113781  151.5500  C22 C26        S  NaN    NaN   \n",
       "\n",
       "                         home.dest  child  \n",
       "0                     St Louis, MO      0  \n",
       "1  Montreal, PQ / Chesterville, ON      1  \n",
       "2  Montreal, PQ / Chesterville, ON      1  \n",
       "3  Montreal, PQ / Chesterville, ON      0  \n",
       "4  Montreal, PQ / Chesterville, ON      0  "
      ]
     },
     "execution_count": 6,
     "metadata": {},
     "output_type": "execute_result"
    }
   ],
   "source": [
    "titanic['child'] = ((titanic['age'] < 14) & (titanic['age'] > 0)).astype(int)\n",
    "titanic.head()"
   ]
  },
  {
   "cell_type": "markdown",
   "id": "d08c58b0-4536-492d-86a7-f1e68974aecc",
   "metadata": {},
   "source": [
    "3. Explain why do we have to treat pclass as categorical."
   ]
  },
  {
   "cell_type": "markdown",
   "id": "4cbe6028-a427-4bf9-8086-93a0706f729b",
   "metadata": {},
   "source": [
    "Pclass means each passengers' class, it means they pay different money for each class. There have lots of people in same class and it did not mean they have different numbers, so we should treat pclass as categorical.  "
   ]
  },
  {
   "cell_type": "markdown",
   "id": "2344c7be-51a6-4d71-bea7-c84a56bd9464",
   "metadata": {},
   "source": [
    "4. Estimate a multiple logistic regression model where you explain survival by these variables.\n",
    "Show the results."
   ]
  },
  {
   "cell_type": "code",
   "execution_count": 7,
   "id": "63290f2b-3530-4e76-81e2-a272532c3c84",
   "metadata": {},
   "outputs": [
    {
     "name": "stdout",
     "output_type": "stream",
     "text": [
      "Optimization terminated successfully.\n",
      "         Current function value: 0.471588\n",
      "         Iterations 6\n"
     ]
    },
    {
     "data": {
      "text/html": [
       "<table class=\"simpletable\">\n",
       "<caption>Logit Regression Results</caption>\n",
       "<tr>\n",
       "  <th>Dep. Variable:</th>       <td>survived</td>     <th>  No. Observations:  </th>   <td>  1309</td>  \n",
       "</tr>\n",
       "<tr>\n",
       "  <th>Model:</th>                 <td>Logit</td>      <th>  Df Residuals:      </th>   <td>  1305</td>  \n",
       "</tr>\n",
       "<tr>\n",
       "  <th>Method:</th>                 <td>MLE</td>       <th>  Df Model:          </th>   <td>     3</td>  \n",
       "</tr>\n",
       "<tr>\n",
       "  <th>Date:</th>            <td>Mon, 18 Jul 2022</td> <th>  Pseudo R-squ.:     </th>   <td>0.2909</td>  \n",
       "</tr>\n",
       "<tr>\n",
       "  <th>Time:</th>                <td>12:22:42</td>     <th>  Log-Likelihood:    </th>  <td> -617.31</td> \n",
       "</tr>\n",
       "<tr>\n",
       "  <th>converged:</th>             <td>True</td>       <th>  LL-Null:           </th>  <td> -870.51</td> \n",
       "</tr>\n",
       "<tr>\n",
       "  <th>Covariance Type:</th>     <td>nonrobust</td>    <th>  LLR p-value:       </th> <td>1.950e-109</td>\n",
       "</tr>\n",
       "</table>\n",
       "<table class=\"simpletable\">\n",
       "<tr>\n",
       "       <td></td>          <th>coef</th>     <th>std err</th>      <th>z</th>      <th>P>|z|</th>  <th>[0.025</th>    <th>0.975]</th>  \n",
       "</tr>\n",
       "<tr>\n",
       "  <th>Intercept</th>   <td>    2.9848</td> <td>    0.236</td> <td>   12.629</td> <td> 0.000</td> <td>    2.522</td> <td>    3.448</td>\n",
       "</tr>\n",
       "<tr>\n",
       "  <th>sex[T.male]</th> <td>   -2.5129</td> <td>    0.149</td> <td>  -16.918</td> <td> 0.000</td> <td>   -2.804</td> <td>   -2.222</td>\n",
       "</tr>\n",
       "<tr>\n",
       "  <th>child</th>       <td>    1.2228</td> <td>    0.259</td> <td>    4.718</td> <td> 0.000</td> <td>    0.715</td> <td>    1.731</td>\n",
       "</tr>\n",
       "<tr>\n",
       "  <th>pclass</th>      <td>   -0.9171</td> <td>    0.087</td> <td>  -10.566</td> <td> 0.000</td> <td>   -1.087</td> <td>   -0.747</td>\n",
       "</tr>\n",
       "</table>"
      ],
      "text/plain": [
       "<class 'statsmodels.iolib.summary.Summary'>\n",
       "\"\"\"\n",
       "                           Logit Regression Results                           \n",
       "==============================================================================\n",
       "Dep. Variable:               survived   No. Observations:                 1309\n",
       "Model:                          Logit   Df Residuals:                     1305\n",
       "Method:                           MLE   Df Model:                            3\n",
       "Date:                Mon, 18 Jul 2022   Pseudo R-squ.:                  0.2909\n",
       "Time:                        12:22:42   Log-Likelihood:                -617.31\n",
       "converged:                       True   LL-Null:                       -870.51\n",
       "Covariance Type:            nonrobust   LLR p-value:                1.950e-109\n",
       "===============================================================================\n",
       "                  coef    std err          z      P>|z|      [0.025      0.975]\n",
       "-------------------------------------------------------------------------------\n",
       "Intercept       2.9848      0.236     12.629      0.000       2.522       3.448\n",
       "sex[T.male]    -2.5129      0.149    -16.918      0.000      -2.804      -2.222\n",
       "child           1.2228      0.259      4.718      0.000       0.715       1.731\n",
       "pclass         -0.9171      0.087    -10.566      0.000      -1.087      -0.747\n",
       "===============================================================================\n",
       "\"\"\""
      ]
     },
     "execution_count": 7,
     "metadata": {},
     "output_type": "execute_result"
    }
   ],
   "source": [
    "m = smf.logit(\"survived ~ child + pclass + sex\", data=titanic).fit()\n",
    "m.summary()"
   ]
  },
  {
   "cell_type": "code",
   "execution_count": 8,
   "id": "ba3dee2d-ebc6-4e17-903c-5ee022036216",
   "metadata": {},
   "outputs": [
    {
     "data": {
      "text/html": [
       "<table class=\"simpletable\">\n",
       "<caption>Logit Marginal Effects</caption>\n",
       "<tr>\n",
       "  <th>Dep. Variable:</th> <td>survived</td>\n",
       "</tr>\n",
       "<tr>\n",
       "  <th>Method:</th>          <td>dydx</td>  \n",
       "</tr>\n",
       "<tr>\n",
       "  <th>At:</th>             <td>overall</td>\n",
       "</tr>\n",
       "</table>\n",
       "<table class=\"simpletable\">\n",
       "<tr>\n",
       "       <th></th>          <th>dy/dx</th>    <th>std err</th>      <th>z</th>      <th>P>|z|</th>  <th>[0.025</th>    <th>0.975]</th>  \n",
       "</tr>\n",
       "<tr>\n",
       "  <th>sex[T.male]</th> <td>   -0.3825</td> <td>    0.011</td> <td>  -33.615</td> <td> 0.000</td> <td>   -0.405</td> <td>   -0.360</td>\n",
       "</tr>\n",
       "<tr>\n",
       "  <th>child</th>       <td>    0.1861</td> <td>    0.038</td> <td>    4.836</td> <td> 0.000</td> <td>    0.111</td> <td>    0.262</td>\n",
       "</tr>\n",
       "<tr>\n",
       "  <th>pclass</th>      <td>   -0.1396</td> <td>    0.012</td> <td>  -12.078</td> <td> 0.000</td> <td>   -0.162</td> <td>   -0.117</td>\n",
       "</tr>\n",
       "</table>"
      ],
      "text/plain": [
       "<class 'statsmodels.iolib.summary.Summary'>\n",
       "\"\"\"\n",
       "        Logit Marginal Effects       \n",
       "=====================================\n",
       "Dep. Variable:               survived\n",
       "Method:                          dydx\n",
       "At:                           overall\n",
       "===============================================================================\n",
       "                 dy/dx    std err          z      P>|z|      [0.025      0.975]\n",
       "-------------------------------------------------------------------------------\n",
       "sex[T.male]    -0.3825      0.011    -33.615      0.000      -0.405      -0.360\n",
       "child           0.1861      0.038      4.836      0.000       0.111       0.262\n",
       "pclass         -0.1396      0.012    -12.078      0.000      -0.162      -0.117\n",
       "===============================================================================\n",
       "\"\"\""
      ]
     },
     "execution_count": 8,
     "metadata": {},
     "output_type": "execute_result"
    }
   ],
   "source": [
    "m.get_margeff().summary()"
   ]
  },
  {
   "cell_type": "markdown",
   "id": "72d7885b-d135-40f2-875a-2f41c0bb55b6",
   "metadata": {},
   "source": [
    "5. Interpret the results. Did men or women, old or young have larger chances of survival? What\n",
    "about different passenger classes? How big were the effects?"
   ]
  },
  {
   "cell_type": "markdown",
   "id": "73d778a2-06cd-45e7-aea7-ed1446a846e9",
   "metadata": {},
   "source": [
    "Women and young children have larger chances of survival. Higher clasess have lower survival chances. The effects for age and sex are huge and strongly relates to the survival rate. Male are 38% less likely to survive than women when they are in the same age and same class. Children are 19% more likely to survive then adults when they are in the same sex and same class. Passenger in one class higher are 14% less likely to survive when they are in the same sex and age. "
   ]
  },
  {
   "cell_type": "markdown",
   "id": "fa0774f5-aee4-4893-95ef-839f98450ae9",
   "metadata": {},
   "source": [
    "6. But what about young men? Were they able to force their way to the boats? Create a variable\n",
    "“young man” (e.g. males between 18 and 35, or anything else you see suitable) and see if they\n",
    "survived more likely than others."
   ]
  },
  {
   "cell_type": "code",
   "execution_count": 9,
   "id": "e2ca68b8-eb74-4b47-869f-d7599307da5b",
   "metadata": {},
   "outputs": [
    {
     "name": "stdout",
     "output_type": "stream",
     "text": [
      "Optimization terminated successfully.\n",
      "         Current function value: 0.595965\n",
      "         Iterations 5\n"
     ]
    },
    {
     "data": {
      "text/html": [
       "<table class=\"simpletable\">\n",
       "<caption>Logit Regression Results</caption>\n",
       "<tr>\n",
       "  <th>Dep. Variable:</th>       <td>survived</td>     <th>  No. Observations:  </th>  <td>  1309</td>  \n",
       "</tr>\n",
       "<tr>\n",
       "  <th>Model:</th>                 <td>Logit</td>      <th>  Df Residuals:      </th>  <td>  1306</td>  \n",
       "</tr>\n",
       "<tr>\n",
       "  <th>Method:</th>                 <td>MLE</td>       <th>  Df Model:          </th>  <td>     2</td>  \n",
       "</tr>\n",
       "<tr>\n",
       "  <th>Date:</th>            <td>Mon, 18 Jul 2022</td> <th>  Pseudo R-squ.:     </th>  <td>0.1038</td>  \n",
       "</tr>\n",
       "<tr>\n",
       "  <th>Time:</th>                <td>12:22:42</td>     <th>  Log-Likelihood:    </th> <td> -780.12</td> \n",
       "</tr>\n",
       "<tr>\n",
       "  <th>converged:</th>             <td>True</td>       <th>  LL-Null:           </th> <td> -870.51</td> \n",
       "</tr>\n",
       "<tr>\n",
       "  <th>Covariance Type:</th>     <td>nonrobust</td>    <th>  LLR p-value:       </th> <td>5.523e-40</td>\n",
       "</tr>\n",
       "</table>\n",
       "<table class=\"simpletable\">\n",
       "<tr>\n",
       "      <td></td>         <th>coef</th>     <th>std err</th>      <th>z</th>      <th>P>|z|</th>  <th>[0.025</th>    <th>0.975]</th>  \n",
       "</tr>\n",
       "<tr>\n",
       "  <th>Intercept</th> <td>    1.3986</td> <td>    0.173</td> <td>    8.085</td> <td> 0.000</td> <td>    1.060</td> <td>    1.738</td>\n",
       "</tr>\n",
       "<tr>\n",
       "  <th>youngman</th>  <td>   -1.0851</td> <td>    0.157</td> <td>   -6.903</td> <td> 0.000</td> <td>   -1.393</td> <td>   -0.777</td>\n",
       "</tr>\n",
       "<tr>\n",
       "  <th>pclass</th>    <td>   -0.7293</td> <td>    0.072</td> <td>  -10.087</td> <td> 0.000</td> <td>   -0.871</td> <td>   -0.588</td>\n",
       "</tr>\n",
       "</table>"
      ],
      "text/plain": [
       "<class 'statsmodels.iolib.summary.Summary'>\n",
       "\"\"\"\n",
       "                           Logit Regression Results                           \n",
       "==============================================================================\n",
       "Dep. Variable:               survived   No. Observations:                 1309\n",
       "Model:                          Logit   Df Residuals:                     1306\n",
       "Method:                           MLE   Df Model:                            2\n",
       "Date:                Mon, 18 Jul 2022   Pseudo R-squ.:                  0.1038\n",
       "Time:                        12:22:42   Log-Likelihood:                -780.12\n",
       "converged:                       True   LL-Null:                       -870.51\n",
       "Covariance Type:            nonrobust   LLR p-value:                 5.523e-40\n",
       "==============================================================================\n",
       "                 coef    std err          z      P>|z|      [0.025      0.975]\n",
       "------------------------------------------------------------------------------\n",
       "Intercept      1.3986      0.173      8.085      0.000       1.060       1.738\n",
       "youngman      -1.0851      0.157     -6.903      0.000      -1.393      -0.777\n",
       "pclass        -0.7293      0.072    -10.087      0.000      -0.871      -0.588\n",
       "==============================================================================\n",
       "\"\"\""
      ]
     },
     "execution_count": 9,
     "metadata": {},
     "output_type": "execute_result"
    }
   ],
   "source": [
    "titanic['youngman'] = ((titanic['age'] > 18.0) & (titanic['age'] < 35.0) & (titanic['sex'] == \"male\")).astype(int)\n",
    "m = smf.logit(\"survived ~ youngman + pclass\", data=titanic).fit()\n",
    "m.summary()"
   ]
  },
  {
   "cell_type": "code",
   "execution_count": 10,
   "id": "b9879e42-3c2f-42fd-bb39-e7b3c0f0a271",
   "metadata": {},
   "outputs": [
    {
     "data": {
      "text/html": [
       "<table class=\"simpletable\">\n",
       "<caption>Logit Marginal Effects</caption>\n",
       "<tr>\n",
       "  <th>Dep. Variable:</th> <td>survived</td>\n",
       "</tr>\n",
       "<tr>\n",
       "  <th>Method:</th>          <td>dydx</td>  \n",
       "</tr>\n",
       "<tr>\n",
       "  <th>At:</th>             <td>overall</td>\n",
       "</tr>\n",
       "</table>\n",
       "<table class=\"simpletable\">\n",
       "<tr>\n",
       "      <th></th>        <th>dy/dx</th>    <th>std err</th>      <th>z</th>      <th>P>|z|</th>  <th>[0.025</th>    <th>0.975]</th>  \n",
       "</tr>\n",
       "<tr>\n",
       "  <th>youngman</th> <td>   -0.2220</td> <td>    0.030</td> <td>   -7.343</td> <td> 0.000</td> <td>   -0.281</td> <td>   -0.163</td>\n",
       "</tr>\n",
       "<tr>\n",
       "  <th>pclass</th>   <td>   -0.1492</td> <td>    0.012</td> <td>  -11.996</td> <td> 0.000</td> <td>   -0.174</td> <td>   -0.125</td>\n",
       "</tr>\n",
       "</table>"
      ],
      "text/plain": [
       "<class 'statsmodels.iolib.summary.Summary'>\n",
       "\"\"\"\n",
       "        Logit Marginal Effects       \n",
       "=====================================\n",
       "Dep. Variable:               survived\n",
       "Method:                          dydx\n",
       "At:                           overall\n",
       "==============================================================================\n",
       "                dy/dx    std err          z      P>|z|      [0.025      0.975]\n",
       "------------------------------------------------------------------------------\n",
       "youngman      -0.2220      0.030     -7.343      0.000      -0.281      -0.163\n",
       "pclass        -0.1492      0.012    -11.996      0.000      -0.174      -0.125\n",
       "==============================================================================\n",
       "\"\"\""
      ]
     },
     "execution_count": 10,
     "metadata": {},
     "output_type": "execute_result"
    }
   ],
   "source": [
    "m.get_margeff().summary()"
   ]
  },
  {
   "cell_type": "markdown",
   "id": "40390ef6-3231-4a9c-bb9b-1a17840d5e89",
   "metadata": {},
   "source": [
    "The are much more likely to survived than other from our analysis. Youngman are 22% less likely to survive when they are in the same class."
   ]
  },
  {
   "cell_type": "markdown",
   "id": "a888a4f1-300f-417f-84f6-cfb15ab809eb",
   "metadata": {},
   "source": [
    "7. Based on the results above, explain what can you tell about the last hours on Titanic. Are\n",
    "the survivors’ accounts broadly accurate? Did the order break down? Can you tell anything\n",
    "else interesting?"
   ]
  },
  {
   "cell_type": "markdown",
   "id": "0db17f9d-1125-4849-84b0-c9730bcf21ec",
   "metadata": {},
   "source": [
    "I think the survivors accounts broadly are accurate. I think the order did not break down since it matches the order of childrean and women are the first leaving the boat and the rest are men. I found that people are caring for women and children in last minutes is interesting."
   ]
  },
  {
   "cell_type": "markdown",
   "id": "0ba56de4-51dc-492f-aa6e-eb13ab709abf",
   "metadata": {},
   "source": [
    "#### 2 COMPAS: who is re-commiting crime? (60pct)"
   ]
  },
  {
   "cell_type": "markdown",
   "id": "647ca00f-88a3-47ed-9fd0-8a4d9b265ae2",
   "metadata": {},
   "source": [
    "##### 2.1 Is COMPAS fair? (30pct)"
   ]
  },
  {
   "cell_type": "markdown",
   "id": "bed2a2cd-5d68-4a1d-87c0-a1dcc24ef4cb",
   "metadata": {},
   "source": [
    "1. Load the COMPAS data, and perform the basic checks."
   ]
  },
  {
   "cell_type": "code",
   "execution_count": 11,
   "id": "5399dcda-b345-444d-94e9-0214da4e0dd7",
   "metadata": {},
   "outputs": [
    {
     "data": {
      "text/html": [
       "<div>\n",
       "<style scoped>\n",
       "    .dataframe tbody tr th:only-of-type {\n",
       "        vertical-align: middle;\n",
       "    }\n",
       "\n",
       "    .dataframe tbody tr th {\n",
       "        vertical-align: top;\n",
       "    }\n",
       "\n",
       "    .dataframe thead th {\n",
       "        text-align: right;\n",
       "    }\n",
       "</style>\n",
       "<table border=\"1\" class=\"dataframe\">\n",
       "  <thead>\n",
       "    <tr style=\"text-align: right;\">\n",
       "      <th></th>\n",
       "      <th>age</th>\n",
       "      <th>c_charge_degree</th>\n",
       "      <th>race</th>\n",
       "      <th>age_cat</th>\n",
       "      <th>sex</th>\n",
       "      <th>priors_count</th>\n",
       "      <th>decile_score</th>\n",
       "      <th>two_year_recid</th>\n",
       "    </tr>\n",
       "  </thead>\n",
       "  <tbody>\n",
       "    <tr>\n",
       "      <th>0</th>\n",
       "      <td>69</td>\n",
       "      <td>F</td>\n",
       "      <td>Other</td>\n",
       "      <td>Greater than 45</td>\n",
       "      <td>Male</td>\n",
       "      <td>0</td>\n",
       "      <td>1</td>\n",
       "      <td>0</td>\n",
       "    </tr>\n",
       "    <tr>\n",
       "      <th>1</th>\n",
       "      <td>34</td>\n",
       "      <td>F</td>\n",
       "      <td>African-American</td>\n",
       "      <td>25 - 45</td>\n",
       "      <td>Male</td>\n",
       "      <td>0</td>\n",
       "      <td>3</td>\n",
       "      <td>1</td>\n",
       "    </tr>\n",
       "    <tr>\n",
       "      <th>2</th>\n",
       "      <td>24</td>\n",
       "      <td>F</td>\n",
       "      <td>African-American</td>\n",
       "      <td>Less than 25</td>\n",
       "      <td>Male</td>\n",
       "      <td>4</td>\n",
       "      <td>4</td>\n",
       "      <td>1</td>\n",
       "    </tr>\n",
       "    <tr>\n",
       "      <th>3</th>\n",
       "      <td>44</td>\n",
       "      <td>M</td>\n",
       "      <td>Other</td>\n",
       "      <td>25 - 45</td>\n",
       "      <td>Male</td>\n",
       "      <td>0</td>\n",
       "      <td>1</td>\n",
       "      <td>0</td>\n",
       "    </tr>\n",
       "    <tr>\n",
       "      <th>4</th>\n",
       "      <td>41</td>\n",
       "      <td>F</td>\n",
       "      <td>Caucasian</td>\n",
       "      <td>25 - 45</td>\n",
       "      <td>Male</td>\n",
       "      <td>14</td>\n",
       "      <td>6</td>\n",
       "      <td>1</td>\n",
       "    </tr>\n",
       "  </tbody>\n",
       "</table>\n",
       "</div>"
      ],
      "text/plain": [
       "   age c_charge_degree              race          age_cat   sex  priors_count  \\\n",
       "0   69               F             Other  Greater than 45  Male             0   \n",
       "1   34               F  African-American          25 - 45  Male             0   \n",
       "2   24               F  African-American     Less than 25  Male             4   \n",
       "3   44               M             Other          25 - 45  Male             0   \n",
       "4   41               F         Caucasian          25 - 45  Male            14   \n",
       "\n",
       "   decile_score  two_year_recid  \n",
       "0             1               0  \n",
       "1             3               1  \n",
       "2             4               1  \n",
       "3             1               0  \n",
       "4             6               1  "
      ]
     },
     "execution_count": 11,
     "metadata": {},
     "output_type": "execute_result"
    }
   ],
   "source": [
    "compas = pd.read_csv(\"data/compas-score-data.csv.bz2\", sep=\"\\t\")\n",
    "compas.head()"
   ]
  },
  {
   "cell_type": "code",
   "execution_count": 12,
   "id": "c61c2d76-5073-4e69-b22a-1c46c41af287",
   "metadata": {},
   "outputs": [
    {
     "data": {
      "text/plain": [
       "age                0\n",
       "c_charge_degree    0\n",
       "race               0\n",
       "age_cat            0\n",
       "sex                0\n",
       "priors_count       0\n",
       "decile_score       0\n",
       "two_year_recid     0\n",
       "dtype: int64"
      ]
     },
     "execution_count": 12,
     "metadata": {},
     "output_type": "execute_result"
    }
   ],
   "source": [
    "compas.isna().sum()"
   ]
  },
  {
   "cell_type": "code",
   "execution_count": 13,
   "id": "a27876b2-e79e-4898-99b2-8d6e1ca0f80a",
   "metadata": {},
   "outputs": [
    {
     "data": {
      "text/plain": [
       "age                 int64\n",
       "c_charge_degree    object\n",
       "race               object\n",
       "age_cat            object\n",
       "sex                object\n",
       "priors_count        int64\n",
       "decile_score        int64\n",
       "two_year_recid      int64\n",
       "dtype: object"
      ]
     },
     "execution_count": 13,
     "metadata": {},
     "output_type": "execute_result"
    }
   ],
   "source": [
    "compas.dtypes"
   ]
  },
  {
   "cell_type": "markdown",
   "id": "a1cc4308-b68a-4c36-9152-d8f1717d9cbb",
   "metadata": {},
   "source": [
    "The data looks good since it did not have missing values and the types for each columns looks good."
   ]
  },
  {
   "cell_type": "markdown",
   "id": "a4beab65-21ba-4fa7-919a-3debbba90647",
   "metadata": {},
   "source": [
    "2. Filter the data to keep only Caucasian and African-Americans. There are just too few offenders\n",
    "of other races."
   ]
  },
  {
   "cell_type": "code",
   "execution_count": 14,
   "id": "3b0dee74-f5a7-4332-8ac2-a082844d710e",
   "metadata": {},
   "outputs": [
    {
     "data": {
      "text/html": [
       "<div>\n",
       "<style scoped>\n",
       "    .dataframe tbody tr th:only-of-type {\n",
       "        vertical-align: middle;\n",
       "    }\n",
       "\n",
       "    .dataframe tbody tr th {\n",
       "        vertical-align: top;\n",
       "    }\n",
       "\n",
       "    .dataframe thead th {\n",
       "        text-align: right;\n",
       "    }\n",
       "</style>\n",
       "<table border=\"1\" class=\"dataframe\">\n",
       "  <thead>\n",
       "    <tr style=\"text-align: right;\">\n",
       "      <th></th>\n",
       "      <th>age</th>\n",
       "      <th>c_charge_degree</th>\n",
       "      <th>race</th>\n",
       "      <th>age_cat</th>\n",
       "      <th>sex</th>\n",
       "      <th>priors_count</th>\n",
       "      <th>decile_score</th>\n",
       "      <th>two_year_recid</th>\n",
       "    </tr>\n",
       "  </thead>\n",
       "  <tbody>\n",
       "    <tr>\n",
       "      <th>1</th>\n",
       "      <td>34</td>\n",
       "      <td>F</td>\n",
       "      <td>African-American</td>\n",
       "      <td>25 - 45</td>\n",
       "      <td>Male</td>\n",
       "      <td>0</td>\n",
       "      <td>3</td>\n",
       "      <td>1</td>\n",
       "    </tr>\n",
       "    <tr>\n",
       "      <th>2</th>\n",
       "      <td>24</td>\n",
       "      <td>F</td>\n",
       "      <td>African-American</td>\n",
       "      <td>Less than 25</td>\n",
       "      <td>Male</td>\n",
       "      <td>4</td>\n",
       "      <td>4</td>\n",
       "      <td>1</td>\n",
       "    </tr>\n",
       "    <tr>\n",
       "      <th>4</th>\n",
       "      <td>41</td>\n",
       "      <td>F</td>\n",
       "      <td>Caucasian</td>\n",
       "      <td>25 - 45</td>\n",
       "      <td>Male</td>\n",
       "      <td>14</td>\n",
       "      <td>6</td>\n",
       "      <td>1</td>\n",
       "    </tr>\n",
       "    <tr>\n",
       "      <th>6</th>\n",
       "      <td>39</td>\n",
       "      <td>M</td>\n",
       "      <td>Caucasian</td>\n",
       "      <td>25 - 45</td>\n",
       "      <td>Female</td>\n",
       "      <td>0</td>\n",
       "      <td>1</td>\n",
       "      <td>0</td>\n",
       "    </tr>\n",
       "    <tr>\n",
       "      <th>7</th>\n",
       "      <td>27</td>\n",
       "      <td>F</td>\n",
       "      <td>Caucasian</td>\n",
       "      <td>25 - 45</td>\n",
       "      <td>Male</td>\n",
       "      <td>0</td>\n",
       "      <td>4</td>\n",
       "      <td>0</td>\n",
       "    </tr>\n",
       "  </tbody>\n",
       "</table>\n",
       "</div>"
      ],
      "text/plain": [
       "   age c_charge_degree              race       age_cat     sex  priors_count  \\\n",
       "1   34               F  African-American       25 - 45    Male             0   \n",
       "2   24               F  African-American  Less than 25    Male             4   \n",
       "4   41               F         Caucasian       25 - 45    Male            14   \n",
       "6   39               M         Caucasian       25 - 45  Female             0   \n",
       "7   27               F         Caucasian       25 - 45    Male             0   \n",
       "\n",
       "   decile_score  two_year_recid  \n",
       "1             3               1  \n",
       "2             4               1  \n",
       "4             6               1  \n",
       "6             1               0  \n",
       "7             4               0  "
      ]
     },
     "execution_count": 14,
     "metadata": {},
     "output_type": "execute_result"
    }
   ],
   "source": [
    "compas = compas[(compas.race == 'African-American') | (compas.race == 'Caucasian')]\n",
    "compas.head()"
   ]
  },
  {
   "cell_type": "markdown",
   "id": "046c9541-bc98-4c93-99a2-a759eef3487a",
   "metadata": {},
   "source": [
    "3. Create a new dummy variable based off of COMPAS risk score (decile_score), which indicates\n",
    "if an individual was classified as low risk (score 1-4) or high risk (score 5-10).\n",
    "Hint: you can proceed in different ways but for technical reasons related the tasks below, the\n",
    "best way to do it is to create a variable “high score”, that takes values 1 (decile score 5 and\n",
    "above) and 0 (decile score 1-4)."
   ]
  },
  {
   "cell_type": "code",
   "execution_count": 15,
   "id": "dd490553-d94b-4be2-8a2d-75c17f52a292",
   "metadata": {},
   "outputs": [],
   "source": [
    "compas['high_score'] = (compas['decile_score'] >= 5).astype(int)"
   ]
  },
  {
   "cell_type": "markdown",
   "id": "3c68f54c-0482-4585-9871-ed4608b49db6",
   "metadata": {},
   "source": [
    "4. Now analyze the offenders across this new risk category:\n",
    "(a) What is the recidivism rate (percentage of offenders who re-commit the crime) for low-\n",
    "risk and high-risk individuals?\n",
    "(b) What are the recidivism rates for African-Americans and Caucasians?"
   ]
  },
  {
   "cell_type": "code",
   "execution_count": 16,
   "id": "71c62989-4c7d-4a1b-b3c8-8fe5fdd3059e",
   "metadata": {},
   "outputs": [
    {
     "data": {
      "text/plain": [
       "(0.3200145296040683, 0.6344554455445545)"
      ]
     },
     "execution_count": 16,
     "metadata": {},
     "output_type": "execute_result"
    }
   ],
   "source": [
    "low = compas[compas.high_score == 0]\n",
    "high = compas[compas.high_score == 1]\n",
    "l = low[low.two_year_recid == 1].two_year_recid.count()/low.age.count()\n",
    "h = high[high.two_year_recid == 1].two_year_recid.count()/high.age.count()\n",
    "l,h"
   ]
  },
  {
   "cell_type": "code",
   "execution_count": 17,
   "id": "e8c3fedc-7f84-467c-bb55-d287930ec6b8",
   "metadata": {},
   "outputs": [
    {
     "data": {
      "text/plain": [
       "(0.5231496062992126, 0.3908701854493581)"
      ]
     },
     "execution_count": 17,
     "metadata": {},
     "output_type": "execute_result"
    }
   ],
   "source": [
    "african = compas[compas.race == \"African-American\"]\n",
    "caucasian = compas[compas.race == \"Caucasian\"]\n",
    "a = african[african.two_year_recid == 1].two_year_recid.count()/african.age.count()\n",
    "c = caucasian[caucasian.two_year_recid == 1].two_year_recid.count()/caucasian.age.count()\n",
    "a,c"
   ]
  },
  {
   "cell_type": "markdown",
   "id": "b01e6e03-4bea-433c-a14f-21ef2896df20",
   "metadata": {},
   "source": [
    "The recidvism rate is 32% for low risk individuls and 63% for high risk individuls. The recidivism rate is 52% for Africans and 39% for caucasians."
   ]
  },
  {
   "cell_type": "markdown",
   "id": "43f824d0-31e5-42cc-a3d2-9de729648300",
   "metadata": {},
   "source": [
    "5. Now create a confusion matrix comparing COMPAS predictions for recidivism (low risk/high\n",
    "risk) and the actual two-year recidivism and interpret the results. In order to be on the same\n",
    "page, let’s call recidivists “positives”.\n",
    "Note: you do not have to predict anything here. COMPAS has made the prediction for you,\n",
    "this is the variable you created in 3 based on decile_score. See the referred articles about\n",
    "the controversy around COMPAS methodology.\n",
    "Note 2: Do not just output a confusion matrix with accompanying text like “accuracy = x%,\n",
    "precision = y%”. Interpret your results such as “z% of recidivists were falsely classified as\n",
    "low-risk, COMPAS accurately classified k% of individuals, etc.”"
   ]
  },
  {
   "cell_type": "code",
   "execution_count": 18,
   "id": "df2b5c82-93b6-4868-96ee-5285bfbe2d53",
   "metadata": {},
   "outputs": [
    {
     "data": {
      "text/plain": [
       "array([[1872,  923],\n",
       "       [ 881, 1602]])"
      ]
     },
     "execution_count": 18,
     "metadata": {},
     "output_type": "execute_result"
    }
   ],
   "source": [
    "cm = confusion_matrix(compas.two_year_recid, compas.high_score)\n",
    "cm"
   ]
  },
  {
   "cell_type": "code",
   "execution_count": 19,
   "id": "f1e9272f-6417-4bf7-a11c-10ee9abc1b02",
   "metadata": {},
   "outputs": [],
   "source": [
    "tn = cm[0,0]\n",
    "fp = cm[0,1]\n",
    "fn = cm[1,0]\n",
    "tp = cm[1,1]"
   ]
  },
  {
   "cell_type": "code",
   "execution_count": 20,
   "id": "9b9cb08a-d9cc-4e9b-9661-7dfb48f9de54",
   "metadata": {},
   "outputs": [
    {
     "data": {
      "text/plain": [
       "0.3200145296040683"
      ]
     },
     "execution_count": 20,
     "metadata": {},
     "output_type": "execute_result"
    }
   ],
   "source": [
    "# false negative = falsely predicted to be negative/total cases to be predicted negative\n",
    "fn/(tn+fn)"
   ]
  },
  {
   "cell_type": "code",
   "execution_count": 21,
   "id": "95b29053-11fc-4ff7-9643-1ce6b3cd9a18",
   "metadata": {},
   "outputs": [
    {
     "data": {
      "text/plain": [
       "0.6582038651004168"
      ]
     },
     "execution_count": 21,
     "metadata": {},
     "output_type": "execute_result"
    }
   ],
   "source": [
    "accuracy = (tn + tp)/np.sum(cm)\n",
    "accuracy"
   ]
  },
  {
   "cell_type": "markdown",
   "id": "c708a6fa-a4df-4292-bef7-62905de37ab7",
   "metadata": {},
   "source": [
    "32% of recidivists were falsely classified as\n",
    "low-risk, COMPAS accurately classified 66% of individuals."
   ]
  },
  {
   "cell_type": "markdown",
   "id": "e6b2d843-2e87-4dc9-a0da-0dd252f4a02d",
   "metadata": {},
   "source": [
    "6. Find the accuracy of the COMPAS classification, and also how its errors (false negatives and\n",
    "false positives) are distributed. Would you feel comfortable having a judge to use COMPAS\n",
    "to inform sentencing guidelines? At what point would the error/misclassification risk be\n",
    "acceptable for you? What do you think, how well can judges perform the same task without\n",
    "COMPAS’s help?\n",
    "Remember: human judges are not perfect either!"
   ]
  },
  {
   "cell_type": "code",
   "execution_count": 22,
   "id": "5a47cecd-bb28-44de-abb9-8ee1655fcf2b",
   "metadata": {},
   "outputs": [
    {
     "data": {
      "text/plain": [
       "0.6582038651004168"
      ]
     },
     "execution_count": 22,
     "metadata": {},
     "output_type": "execute_result"
    }
   ],
   "source": [
    "accuracy = (tn + tp)/np.sum(cm)\n",
    "accuracy"
   ]
  },
  {
   "cell_type": "code",
   "execution_count": 23,
   "id": "4f21bf32-caf8-401a-93d4-bd75f83eb526",
   "metadata": {},
   "outputs": [
    {
     "data": {
      "text/plain": [
       "0.35481272654047524"
      ]
     },
     "execution_count": 23,
     "metadata": {},
     "output_type": "execute_result"
    }
   ],
   "source": [
    "# recall\n",
    "fn/(tp+fn)"
   ]
  },
  {
   "cell_type": "code",
   "execution_count": 24,
   "id": "b0b0b257-6b0e-45a4-a072-85cba6bcf6d8",
   "metadata": {},
   "outputs": [
    {
     "data": {
      "text/plain": [
       "0.3302325581395349"
      ]
     },
     "execution_count": 24,
     "metadata": {},
     "output_type": "execute_result"
    }
   ],
   "source": [
    "# false positive\n",
    "fp/(tn+fp)"
   ]
  },
  {
   "cell_type": "markdown",
   "id": "e9cd2cf6-2fa1-4523-937b-5941e92ea34f",
   "metadata": {},
   "source": [
    "The accuracy of the COMPAS classification is 66%. The false negatives rate is 35%, and the false positives rate is 33%. I do not feel uncomfortable having a judge to use COMPAS to inform sentencing guidelines since the accuracy rate is little bit low., but I don't think judge will perform better without COMPAS's help. Human judges have sometimes make personal judgement based on various factor. We should minimize these effects."
   ]
  },
  {
   "cell_type": "markdown",
   "id": "48f2c401-ddf1-4857-976f-5e9849adb260",
   "metadata": {},
   "source": [
    "7. Now repeat your confusion matrix calculation and analysis from 5. But this time do it\n",
    "separately for African-Americans and for Caucasians:\n",
    "(a) How accurate is the COMPAS classification for African-American individuals? For Cau-\n",
    "casians?\n",
    "(b) What are the false positive rates (false recidivism rates) FPR?\n",
    "(c) The false negative rates (false no-recidivism rates) FNR?\n",
    "We did not talk about FPR and FNR in class, but you can consult Lecture Notes, section 6.1.1."
   ]
  },
  {
   "cell_type": "code",
   "execution_count": 25,
   "id": "809690e8-c063-4256-8253-dc8360b4abc2",
   "metadata": {},
   "outputs": [
    {
     "data": {
      "text/plain": [
       "array([[ 873,  641],\n",
       "       [ 473, 1188]])"
      ]
     },
     "execution_count": 25,
     "metadata": {},
     "output_type": "execute_result"
    }
   ],
   "source": [
    "cm_a = confusion_matrix(african.two_year_recid, african.high_score)\n",
    "cm_a"
   ]
  },
  {
   "cell_type": "code",
   "execution_count": 26,
   "id": "642251eb-fad9-4f6e-b15c-8b69aa4acfad",
   "metadata": {},
   "outputs": [
    {
     "data": {
      "text/plain": [
       "0.6491338582677165"
      ]
     },
     "execution_count": 26,
     "metadata": {},
     "output_type": "execute_result"
    }
   ],
   "source": [
    "np.mean(african.two_year_recid == african.high_score)"
   ]
  },
  {
   "cell_type": "code",
   "execution_count": 27,
   "id": "3c1186a9-6a1d-4b03-8325-2831d0b72508",
   "metadata": {},
   "outputs": [],
   "source": [
    "tn_a = cm_a[0,0]\n",
    "fp_a = cm_a[0,1]\n",
    "fn_a = cm_a[1,0]\n",
    "tp_a = cm_a[1,1]"
   ]
  },
  {
   "cell_type": "code",
   "execution_count": 28,
   "id": "bcec9c55-c5c9-4014-94dd-7c6657928ff8",
   "metadata": {},
   "outputs": [
    {
     "data": {
      "text/plain": [
       "0.4233817701453104"
      ]
     },
     "execution_count": 28,
     "metadata": {},
     "output_type": "execute_result"
    }
   ],
   "source": [
    "# FPR A\n",
    "fp_a / (tn_a + fp_a)"
   ]
  },
  {
   "cell_type": "code",
   "execution_count": 29,
   "id": "140347cc-f541-4b32-93e5-f261992395d2",
   "metadata": {},
   "outputs": [
    {
     "data": {
      "text/plain": [
       "0.2847682119205298"
      ]
     },
     "execution_count": 29,
     "metadata": {},
     "output_type": "execute_result"
    }
   ],
   "source": [
    "# FNR A\n",
    "fn_a / (tp_a + fn_a)"
   ]
  },
  {
   "cell_type": "code",
   "execution_count": 30,
   "id": "59826b5b-8b4d-48b3-86b6-d0d4b74f08ff",
   "metadata": {},
   "outputs": [
    {
     "data": {
      "text/plain": [
       "array([[999, 282],\n",
       "       [408, 414]])"
      ]
     },
     "execution_count": 30,
     "metadata": {},
     "output_type": "execute_result"
    }
   ],
   "source": [
    "cm_c = confusion_matrix(caucasian.two_year_recid, caucasian.high_score)\n",
    "cm_c"
   ]
  },
  {
   "cell_type": "code",
   "execution_count": 31,
   "id": "ed64de51-af4b-46e7-a47e-4c6fd5209dd2",
   "metadata": {},
   "outputs": [],
   "source": [
    "tn_c = cm_c[0,0]\n",
    "fp_c = cm_c[0,1]\n",
    "fn_c = cm_c[1,0]\n",
    "tp_c = cm_c[1,1]"
   ]
  },
  {
   "cell_type": "code",
   "execution_count": 32,
   "id": "e7eaa704-0595-4160-aa3d-1ec514bbba66",
   "metadata": {},
   "outputs": [
    {
     "data": {
      "text/plain": [
       "0.6718972895863052"
      ]
     },
     "execution_count": 32,
     "metadata": {},
     "output_type": "execute_result"
    }
   ],
   "source": [
    "np.mean(caucasian.two_year_recid == caucasian.high_score)"
   ]
  },
  {
   "cell_type": "code",
   "execution_count": 33,
   "id": "ea340c79-088b-4b22-b6db-0881f01d25b2",
   "metadata": {},
   "outputs": [
    {
     "data": {
      "text/plain": [
       "0.22014051522248243"
      ]
     },
     "execution_count": 33,
     "metadata": {},
     "output_type": "execute_result"
    }
   ],
   "source": [
    "# FPR C\n",
    "fp_c / (tn_c + fp_c)"
   ]
  },
  {
   "cell_type": "code",
   "execution_count": 34,
   "id": "b6d87eb0-623f-4eac-91cd-4a8cdfe89aaa",
   "metadata": {},
   "outputs": [
    {
     "data": {
      "text/plain": [
       "0.49635036496350365"
      ]
     },
     "execution_count": 34,
     "metadata": {},
     "output_type": "execute_result"
    }
   ],
   "source": [
    "# FNR C\n",
    "fn_c / (tp_c + fn_c)"
   ]
  },
  {
   "cell_type": "markdown",
   "id": "cf0e2ae9-ee4d-4e1a-9f53-d2a5f30af360",
   "metadata": {},
   "source": [
    "The accuracy of the COMPAS classification is 65% for African-Americans and 67% for Caucasians. The FPR of the COMPAS is 42% for African-Americans and 22% for Caucasians. The FNR of the COMPAS is 28% for African-Americans and 50% for Caucasians."
   ]
  },
  {
   "cell_type": "markdown",
   "id": "e48114a5-2d4d-4510-b0c9-dfede7352f15",
   "metadata": {},
   "source": [
    "8. If you have done this correctly, you will find that COMPAS’s percentage of correctly catego-\n",
    "rized individuals (accuracy) is fairly similar for African-Americans and Caucasians, but that\n",
    "false positive rates and false negative rates are different. Look again at the overal recidi-\n",
    "vism rates in the dataset for Black and White individuals. In your opinion, is the COMPAS\n",
    "algorithm fair? Justify your answer."
   ]
  },
  {
   "cell_type": "markdown",
   "id": "761d62e6-2ea8-455a-aa24-e6a5298cee66",
   "metadata": {},
   "source": [
    "I think COMPAS algorithm is not fair. Although the accuracy of classificaiton for Black and White individuals are similiar, the FPR and FNR have huge differences. A high FPR for African Americans means African Americans have higher change to be falsely classifies as recidivism. A high FNR for Caucasians means Caucasians have higher change to be falsely classifies as non-recidivism. These rate show there are unequal classification between White and Black."
   ]
  },
  {
   "cell_type": "markdown",
   "id": "55f5c0ed-10b2-4717-a3ec-54d63ce5584d",
   "metadata": {},
   "source": [
    "#### 2.2 Can you beat COMPAS? (30pct)"
   ]
  },
  {
   "cell_type": "markdown",
   "id": "5bc3beed-42c7-497b-a70b-840173022709",
   "metadata": {},
   "source": [
    "1. Before we start: what do you think, what is an appropriate model performance measure here?\n",
    "A, P, R, For something else? Maybe you want to report multiple measures? Explain!"
   ]
  },
  {
   "cell_type": "markdown",
   "id": "18903cf6-ed20-4fd6-afc7-b8841976f7ce",
   "metadata": {},
   "source": [
    "I think precision in this case is a good choice. I need to make sure that false positive is low for my model. And precision is good when false positive is bad in our recidivism model. "
   ]
  },
  {
   "cell_type": "markdown",
   "id": "7a960b82-104a-4e64-b3b8-d409cdb9cad7",
   "metadata": {},
   "source": [
    "2. Now it is time to do the modeling. Create a logistic regression model that contains all\n",
    "explanatory variables you have in data into the model. (Some of these you have to convert to\n",
    "dummies). Do not include the variables discussed above, do not include race and gender in\n",
    "this model either to avoid explicit gender/racial bias.\n",
    "Compute the performance measure(s) you proposed in 1."
   ]
  },
  {
   "cell_type": "code",
   "execution_count": 35,
   "id": "13cb8294-fa63-4ff8-bff8-b76d70262210",
   "metadata": {},
   "outputs": [
    {
     "data": {
      "text/html": [
       "<div>\n",
       "<style scoped>\n",
       "    .dataframe tbody tr th:only-of-type {\n",
       "        vertical-align: middle;\n",
       "    }\n",
       "\n",
       "    .dataframe tbody tr th {\n",
       "        vertical-align: top;\n",
       "    }\n",
       "\n",
       "    .dataframe thead th {\n",
       "        text-align: right;\n",
       "    }\n",
       "</style>\n",
       "<table border=\"1\" class=\"dataframe\">\n",
       "  <thead>\n",
       "    <tr style=\"text-align: right;\">\n",
       "      <th></th>\n",
       "      <th>priors_count</th>\n",
       "      <th>age</th>\n",
       "      <th>c_charge_degree_M</th>\n",
       "      <th>age_cat_Greater than 45</th>\n",
       "      <th>age_cat_Less than 25</th>\n",
       "    </tr>\n",
       "  </thead>\n",
       "  <tbody>\n",
       "    <tr>\n",
       "      <th>1</th>\n",
       "      <td>0</td>\n",
       "      <td>34</td>\n",
       "      <td>0</td>\n",
       "      <td>0</td>\n",
       "      <td>0</td>\n",
       "    </tr>\n",
       "    <tr>\n",
       "      <th>2</th>\n",
       "      <td>4</td>\n",
       "      <td>24</td>\n",
       "      <td>0</td>\n",
       "      <td>0</td>\n",
       "      <td>1</td>\n",
       "    </tr>\n",
       "    <tr>\n",
       "      <th>4</th>\n",
       "      <td>14</td>\n",
       "      <td>41</td>\n",
       "      <td>0</td>\n",
       "      <td>0</td>\n",
       "      <td>0</td>\n",
       "    </tr>\n",
       "  </tbody>\n",
       "</table>\n",
       "</div>"
      ],
      "text/plain": [
       "   priors_count  age  c_charge_degree_M  age_cat_Greater than 45  \\\n",
       "1             0   34                  0                        0   \n",
       "2             4   24                  0                        0   \n",
       "4            14   41                  0                        0   \n",
       "\n",
       "   age_cat_Less than 25  \n",
       "1                     0  \n",
       "2                     1  \n",
       "4                     0  "
      ]
     },
     "execution_count": 35,
     "metadata": {},
     "output_type": "execute_result"
    }
   ],
   "source": [
    "X1 = compas[[\"c_charge_degree\", \"age_cat\", \"priors_count\", \"age\"]]\n",
    "X1 = pd.get_dummies(X1, drop_first=True)\n",
    "X1.head(3)"
   ]
  },
  {
   "cell_type": "code",
   "execution_count": 36,
   "id": "4bc0c802-4186-4e51-8f92-d79fe99e13b6",
   "metadata": {},
   "outputs": [],
   "source": [
    "y = compas.two_year_recid\n",
    "\n",
    "m1 = LogisticRegression()\n",
    "_ = m1.fit(X1, y)"
   ]
  },
  {
   "cell_type": "markdown",
   "id": "546c2880-9bb7-40cd-9505-984da6b8bb78",
   "metadata": {},
   "source": [
    "3. Experiment with different models to find the best model according to your preformance indi-\n",
    "cator. Include/exclude different variables. You may also do feature engineering, e.g. create\n",
    "a different set of age groups, include variables like age2, age2, interaction effects, etc. But do\n",
    "not include race and gender.\n",
    "Report what did you try (but no need to report the full results of all of your unsuccessful\n",
    "attempts), and your best model’s performance. Did you got better results or worse results\n",
    "than COMPAS?"
   ]
  },
  {
   "cell_type": "code",
   "execution_count": 37,
   "id": "1e6b45fc-3521-416b-a908-cb5023e58257",
   "metadata": {},
   "outputs": [
    {
     "data": {
      "text/plain": [
       "0.6582656984194789"
      ]
     },
     "execution_count": 37,
     "metadata": {},
     "output_type": "execute_result"
    }
   ],
   "source": [
    "yhat1 = m1.predict(X1)\n",
    "precision_score(y, yhat1)"
   ]
  },
  {
   "cell_type": "code",
   "execution_count": 38,
   "id": "9c146261-a6ce-4e0b-bd3e-ce6f1eaac9fc",
   "metadata": {},
   "outputs": [
    {
     "data": {
      "text/plain": [
       "0.6501521077792264"
      ]
     },
     "execution_count": 38,
     "metadata": {},
     "output_type": "execute_result"
    }
   ],
   "source": [
    "X2 = compas[[\"c_charge_degree\", \"age_cat\", \"priors_count\"]]\n",
    "X2 = pd.get_dummies(X2, drop_first=True)\n",
    "y = compas.two_year_recid\n",
    "\n",
    "m2 = LogisticRegression()\n",
    "_ = m2.fit(X2, y)\n",
    "yhat2 = m2.predict(X2)\n",
    "precision_score(y, yhat2)"
   ]
  },
  {
   "cell_type": "code",
   "execution_count": 39,
   "id": "334b315f-47ce-484d-9346-b2b06d5ee9b9",
   "metadata": {},
   "outputs": [
    {
     "data": {
      "text/plain": [
       "0.5785234899328859"
      ]
     },
     "execution_count": 39,
     "metadata": {},
     "output_type": "execute_result"
    }
   ],
   "source": [
    "X3 = compas[[\"c_charge_degree\", \"age_cat\", \"age\"]]\n",
    "X3 = pd.get_dummies(X3, drop_first=True)\n",
    "y = compas.two_year_recid\n",
    "\n",
    "m3 = LogisticRegression()\n",
    "_ = m3.fit(X3, y)\n",
    "yhat3 = m3.predict(X3)\n",
    "precision_score(y, yhat3)"
   ]
  },
  {
   "cell_type": "code",
   "execution_count": 40,
   "id": "e9e371c8-4140-4ad2-b73b-ec5f14822fee",
   "metadata": {},
   "outputs": [
    {
     "data": {
      "text/plain": [
       "0.6576842105263158"
      ]
     },
     "execution_count": 40,
     "metadata": {},
     "output_type": "execute_result"
    }
   ],
   "source": [
    "X4 = compas[[\"priors_count\", \"age_cat\", \"age\"]]\n",
    "X4 = pd.get_dummies(X4, drop_first=True)\n",
    "y = compas.two_year_recid\n",
    "\n",
    "m4 = LogisticRegression()\n",
    "_ = m4.fit(X4, y)\n",
    "yhat4 = m4.predict(X4)\n",
    "precision_score(y, yhat4)"
   ]
  },
  {
   "cell_type": "code",
   "execution_count": 41,
   "id": "52ae3272-4552-44f4-a9bd-e6c47e9b9a1e",
   "metadata": {},
   "outputs": [
    {
     "data": {
      "text/plain": [
       "0.6926147704590818"
      ]
     },
     "execution_count": 41,
     "metadata": {},
     "output_type": "execute_result"
    }
   ],
   "source": [
    "X5 = compas[[\"priors_count\", \"priors_count\", \"age\"]]\n",
    "X5 = pd.get_dummies(X5, drop_first=True)\n",
    "y = compas.two_year_recid\n",
    "\n",
    "m5 = LogisticRegression()\n",
    "_ = m5.fit(X5, y)\n",
    "yhat5 = m5.predict(X5)\n",
    "precision_score(y, yhat5)"
   ]
  },
  {
   "cell_type": "markdown",
   "id": "4c838ff9-1e4a-4a3c-b593-8ac08cce3adf",
   "metadata": {},
   "source": [
    "The best result I get is 69% precision in the last modle where I exclude the age_cat. And it is higher than COMPAS' 63% precision about 5% higher."
   ]
  },
  {
   "cell_type": "markdown",
   "id": "188cb003-e913-4d48-8ea3-2d74b6a26515",
   "metadata": {},
   "source": [
    "4. Now add sex to the model. Does it help to improve the performance?\n",
    "Please do not devote too too much attention on tiny differences, e.g. whether your accuracy\n",
    "is better by 0.001 or F-score worse by 0.0005. Such tiny differences have hardly any real-world\n",
    "significance."
   ]
  },
  {
   "cell_type": "code",
   "execution_count": 42,
   "id": "7f3472c2-bb6a-4c95-867e-ed1972cb0415",
   "metadata": {},
   "outputs": [
    {
     "data": {
      "text/plain": [
       "0.6883957466481738"
      ]
     },
     "execution_count": 42,
     "metadata": {},
     "output_type": "execute_result"
    }
   ],
   "source": [
    "X6 = compas[[\"priors_count\", \"priors_count\", \"age\", \"sex\"]]\n",
    "X6 = pd.get_dummies(X6, drop_first=True)\n",
    "y = compas.two_year_recid\n",
    "\n",
    "m6 = LogisticRegression()\n",
    "_ = m6.fit(X6, y)\n",
    "yhat6 = m6.predict(X6)\n",
    "precision_score(y, yhat6)"
   ]
  },
  {
   "cell_type": "markdown",
   "id": "357e0433-4327-4ec5-99f6-8a354204ac6a",
   "metadata": {},
   "source": [
    "The difference of the precision score that including sex are small, but it somewhat does not help our model."
   ]
  },
  {
   "cell_type": "markdown",
   "id": "24a2382d-2591-454a-bd28-54ca0d0ab4a5",
   "metadata": {},
   "source": [
    "5. And finally add race. Does the model improve? Again, let’s not talk about tiny differences\n",
    "here."
   ]
  },
  {
   "cell_type": "code",
   "execution_count": 43,
   "id": "3b8c829b-e495-40e0-9af9-6807c4785ebb",
   "metadata": {},
   "outputs": [
    {
     "data": {
      "text/plain": [
       "0.6862835959221502"
      ]
     },
     "execution_count": 43,
     "metadata": {},
     "output_type": "execute_result"
    }
   ],
   "source": [
    "X7 = compas[[\"priors_count\", \"priors_count\", \"age\", \"sex\", \"race\"]]\n",
    "X7 = pd.get_dummies(X7, drop_first=True)\n",
    "y = compas.two_year_recid\n",
    "\n",
    "m7 = LogisticRegression()\n",
    "_ = m7.fit(X7, y)\n",
    "yhat7 = m7.predict(X7)\n",
    "precision_score(y, yhat7)"
   ]
  },
  {
   "cell_type": "markdown",
   "id": "0c2a3698-9dd8-4932-9b42-ff0209f13c59",
   "metadata": {},
   "source": [
    "The difference of the precision score that including race are small, but it somewhat does not help our model."
   ]
  },
  {
   "cell_type": "markdown",
   "id": "4b953244-b148-448d-bbff-040963993cbe",
   "metadata": {},
   "source": [
    "6. Discuss the results. Did you manage to be equally good as COMPAS? Did you create a better\n",
    "model? Do gender and race help to improve your predictions? What should judges do when\n",
    "having access to such models? Should they use such models?\n",
    "Finally, is your model any better (or worse) than COMAPS in terms of fairness? Let’s use your\n",
    "model to predict recidivism for everyone (i.e. all data, ignore training-testing split), and see if you\n",
    "managed to FPR and FNR for African-Americans and Caucasians are now similar."
   ]
  },
  {
   "cell_type": "markdown",
   "id": "e9adbb4c-61cf-4b79-a84f-40f1c845125e",
   "metadata": {},
   "source": [
    "I am be able to manage a better model as COMPAS. Gender and race does nor help to improve my predictions. Judges should use the model as a checking tool or reference when having access to such models. I think they should use the model since people always have personal opinions and stereotypes. My model is better than COMAPS in terms of fairness since I do not include race and gender in my model."
   ]
  },
  {
   "cell_type": "markdown",
   "id": "5b7ae5c2-807c-4b2d-8a72-01d0020332da",
   "metadata": {},
   "source": [
    "7. Replicate 2.1.7 using your best model: pick the best model from question 2.2.3 (i.e. your\n",
    "best model without sex and race), predict recidivism for everyone in data (ie only African-\n",
    "Americans and Caucasians), and compute FPR and FNR separately for African-Americans\n",
    "and Caucasians."
   ]
  },
  {
   "cell_type": "code",
   "execution_count": 46,
   "id": "843e89de-d017-4800-9e06-2c004da48ea2",
   "metadata": {},
   "outputs": [],
   "source": [
    "compas['new'] = yhat5\n",
    "african2 = compas[compas.race == 'African-American']\n",
    "caucasian2 = compas[compas.race == 'Caucasian']"
   ]
  },
  {
   "cell_type": "code",
   "execution_count": 47,
   "id": "7520635b-5405-46aa-b006-8fa356f2f9d8",
   "metadata": {},
   "outputs": [
    {
     "data": {
      "text/plain": [
       "array([[1079,  435],\n",
       "       [ 586, 1075]])"
      ]
     },
     "execution_count": 47,
     "metadata": {},
     "output_type": "execute_result"
    }
   ],
   "source": [
    "cm_aa = confusion_matrix(african2.two_year_recid, african2.new)\n",
    "cm_aa"
   ]
  },
  {
   "cell_type": "code",
   "execution_count": 48,
   "id": "e8afbe5b-65e8-4a72-a8f3-d66969b2a1ed",
   "metadata": {},
   "outputs": [
    {
     "data": {
      "text/plain": [
       "array([[1100,  181],\n",
       "       [ 509,  313]])"
      ]
     },
     "execution_count": 48,
     "metadata": {},
     "output_type": "execute_result"
    }
   ],
   "source": [
    "cm_cc = confusion_matrix(caucasian2.two_year_recid, caucasian2.new)\n",
    "cm_cc"
   ]
  },
  {
   "cell_type": "code",
   "execution_count": 49,
   "id": "097dbc56-8a11-4c36-ac38-e145ab35f44d",
   "metadata": {},
   "outputs": [],
   "source": [
    "tn_aa = cm_aa[0,0]\n",
    "fp_aa = cm_aa[0,1]\n",
    "fn_aa = cm_aa[1,0]\n",
    "tp_aa = cm_aa[1,1]"
   ]
  },
  {
   "cell_type": "code",
   "execution_count": 50,
   "id": "dbdad05b-aebf-4f0b-83dd-5a129e921702",
   "metadata": {},
   "outputs": [],
   "source": [
    "tn_cc = cm_cc[0,0]\n",
    "fp_cc = cm_cc[0,1]\n",
    "fn_cc = cm_cc[1,0]\n",
    "tp_cc = cm_cc[1,1]"
   ]
  },
  {
   "cell_type": "code",
   "execution_count": 51,
   "id": "c2f7c027-ac51-4316-a7b0-b5f7da306076",
   "metadata": {},
   "outputs": [
    {
     "data": {
      "text/plain": [
       "0.28731836195508587"
      ]
     },
     "execution_count": 51,
     "metadata": {},
     "output_type": "execute_result"
    }
   ],
   "source": [
    "# FPR AA\n",
    "fp_aa / (tn_aa + fp_aa)"
   ]
  },
  {
   "cell_type": "code",
   "execution_count": 52,
   "id": "301ad732-3120-4db2-a2b7-5ac205d0d9f0",
   "metadata": {},
   "outputs": [
    {
     "data": {
      "text/plain": [
       "0.3527995183624323"
      ]
     },
     "execution_count": 52,
     "metadata": {},
     "output_type": "execute_result"
    }
   ],
   "source": [
    "# FNR AA\n",
    "fn_aa / (tp_aa + fn_aa)"
   ]
  },
  {
   "cell_type": "code",
   "execution_count": 53,
   "id": "7d5b0e36-bb6b-4424-80ca-5f3c994d6393",
   "metadata": {},
   "outputs": [
    {
     "data": {
      "text/plain": [
       "0.141295862607338"
      ]
     },
     "execution_count": 53,
     "metadata": {},
     "output_type": "execute_result"
    }
   ],
   "source": [
    "# FPR C\n",
    "fp_cc / (tn_cc + fp_cc)"
   ]
  },
  {
   "cell_type": "code",
   "execution_count": 54,
   "id": "6eb5468c-b999-48cb-8871-52e936a9acde",
   "metadata": {},
   "outputs": [
    {
     "data": {
      "text/plain": [
       "0.6192214111922141"
      ]
     },
     "execution_count": 54,
     "metadata": {},
     "output_type": "execute_result"
    }
   ],
   "source": [
    "# FNR C\n",
    "fn_cc / (tp_cc + fn_cc)"
   ]
  },
  {
   "cell_type": "markdown",
   "id": "2cca6564-558c-4d87-bad1-8821e3bf3ffc",
   "metadata": {},
   "source": [
    "8. Explain what do you get. Are your results different from COMPAS in any significant way?"
   ]
  },
  {
   "cell_type": "markdown",
   "id": "b77b4e45-c01d-4c33-8288-2aa4667124a2",
   "metadata": {},
   "source": [
    "The FPR for both African-American and Caucasian are much lower than original COMPAS model and the FNR for both African-American and Caucasian are higher than original COMPAS model. We have less change to faslely classifie African-American or Caucasian are"
   ]
  },
  {
   "cell_type": "markdown",
   "id": "340ca7dc-3141-4fe1-98e2-c7e757cb7b2c",
   "metadata": {},
   "source": [
    "Finally tell us how many hours did you spend on this PS."
   ]
  },
  {
   "cell_type": "markdown",
   "id": "2343500b-1628-4484-a3aa-8c2d9807cfd0",
   "metadata": {},
   "source": [
    "I spend 8 hours on this PS."
   ]
  },
  {
   "cell_type": "code",
   "execution_count": null,
   "id": "0150a8ea-40fe-4ae3-8c4d-089a0ea40dce",
   "metadata": {},
   "outputs": [],
   "source": []
  }
 ],
 "metadata": {
  "kernelspec": {
   "display_name": "Python 3 (ipykernel)",
   "language": "python",
   "name": "python3"
  },
  "language_info": {
   "codemirror_mode": {
    "name": "ipython",
    "version": 3
   },
   "file_extension": ".py",
   "mimetype": "text/x-python",
   "name": "python",
   "nbconvert_exporter": "python",
   "pygments_lexer": "ipython3",
   "version": "3.9.7"
  }
 },
 "nbformat": 4,
 "nbformat_minor": 5
}
